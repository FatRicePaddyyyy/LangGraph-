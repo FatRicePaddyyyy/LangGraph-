{
 "cells": [
  {
   "cell_type": "markdown",
   "metadata": {},
   "source": [
    "# ライブラリのインポート"
   ]
  },
  {
   "cell_type": "code",
   "execution_count": 126,
   "metadata": {},
   "outputs": [],
   "source": [
    "import os\n",
    "import google.generativeai as genai\n",
    "import os\n",
    "from langchain_community.document_loaders import WebBaseLoader, TextLoader\n",
    "import requests\n",
    "from langchain_chroma import Chroma\n",
    "from langchain.agents.agent_toolkits import create_retriever_tool\n",
    "import os\n",
    "from uuid import uuid4\n",
    "from langchain_google_genai import ChatGoogleGenerativeAI\n",
    "from langgraph.prebuilt import chat_agent_executor\n",
    "from langgraph.checkpoint.memory import MemorySaver\n",
    "from langchain_huggingface import HuggingFaceEmbeddings\n",
    "import pkg_resources"
   ]
  },
  {
   "cell_type": "markdown",
   "metadata": {},
   "source": [
    "# パッケージのバージョンを確認"
   ]
  },
  {
   "cell_type": "code",
   "execution_count": 127,
   "metadata": {},
   "outputs": [
    {
     "name": "stdout",
     "output_type": "stream",
     "text": [
      "google-generativeai: 0.7.2\n",
      "langchain-community: 0.2.14\n",
      "requests: 2.32.3\n",
      "langchain-chroma: 0.1.3\n",
      "langchain: 0.2.15\n",
      "uuid: Not installed\n",
      "langchain-google-genai: 1.0.10\n",
      "langgraph: 0.2.14\n",
      "langchain-huggingface: 0.0.3\n"
     ]
    }
   ],
   "source": [
    "\n",
    "\n",
    "packages = [\n",
    "    \"google-generativeai\",  # genai パッケージ名の推定\n",
    "    \"langchain-community\",  # langchain_community パッケージ名の推定\n",
    "    \"requests\",\n",
    "    \"langchain-chroma\",    # langchain_chroma パッケージ名の推定\n",
    "    \"langchain\",           # langchain.agents.agent_toolkits の一部と推定\n",
    "    \"uuid\",                # uuidはPython標準ライブラリで、バージョン情報は不要\n",
    "    \"langchain-google-genai\",  # langchain_google_genai パッケージ名の推定\n",
    "    \"langgraph\",           # langgraph.prebuilt などのパッケージ名の推定\n",
    "    \"langchain-huggingface\"   # langchain_huggingface パッケージ名の推定\n",
    "]\n",
    "\n",
    "for package_name in packages:\n",
    "    try:\n",
    "        version = pkg_resources.get_distribution(package_name).version\n",
    "        print(f\"{package_name}: {version}\")\n",
    "    except pkg_resources.DistributionNotFound:\n",
    "        print(f\"{package_name}: Not installed\")"
   ]
  },
  {
   "cell_type": "markdown",
   "metadata": {},
   "source": [
    "# APIキーの設定"
   ]
  },
  {
   "cell_type": "code",
   "execution_count": 128,
   "metadata": {},
   "outputs": [],
   "source": [
    "GOOGLE_API_KEY=\"YOUR_API_KEY\"\n",
    "genai.configure(api_key=GOOGLE_API_KEY)"
   ]
  },
  {
   "cell_type": "markdown",
   "metadata": {},
   "source": [
    "# 埋め込みモデルの設定"
   ]
  },
  {
   "cell_type": "code",
   "execution_count": 129,
   "metadata": {},
   "outputs": [
    {
     "name": "stderr",
     "output_type": "stream",
     "text": [
      "/home/st6322011/anaconda3/lib/python3.11/site-packages/huggingface_hub/file_download.py:1132: FutureWarning: `resume_download` is deprecated and will be removed in version 1.0.0. Downloads always resume when possible. If you want to force a new download, use `force_download=True`.\n",
      "  warnings.warn(\n"
     ]
    }
   ],
   "source": [
    "hf_embeddings = HuggingFaceEmbeddings(\n",
    "    model_name = \"BAAI/bge-m3\",\n",
    "    model_kwargs = {'device': 'cpu'}\n",
    ")"
   ]
  },
  {
   "cell_type": "markdown",
   "metadata": {},
   "source": [
    "# 現状使える生成モデルの閲覧"
   ]
  },
  {
   "cell_type": "code",
   "execution_count": 130,
   "metadata": {},
   "outputs": [
    {
     "name": "stdout",
     "output_type": "stream",
     "text": [
      "models/gemini-1.0-pro-latest\n",
      "models/gemini-1.0-pro\n",
      "models/gemini-pro\n",
      "models/gemini-1.0-pro-001\n",
      "models/gemini-1.0-pro-vision-latest\n",
      "models/gemini-pro-vision\n",
      "models/gemini-1.5-pro-latest\n",
      "models/gemini-1.5-pro-001\n",
      "models/gemini-1.5-pro-002\n",
      "models/gemini-1.5-pro\n",
      "models/gemini-1.5-pro-exp-0801\n",
      "models/gemini-1.5-pro-exp-0827\n",
      "models/gemini-1.5-flash-latest\n",
      "models/gemini-1.5-flash-001\n",
      "models/gemini-1.5-flash-001-tuning\n",
      "models/gemini-1.5-flash\n",
      "models/gemini-1.5-flash-exp-0827\n",
      "models/gemini-1.5-flash-002\n",
      "models/gemini-1.5-flash-8b\n",
      "models/gemini-1.5-flash-8b-001\n",
      "models/gemini-1.5-flash-8b-latest\n",
      "models/gemini-1.5-flash-8b-exp-0827\n",
      "models/gemini-1.5-flash-8b-exp-0924\n"
     ]
    }
   ],
   "source": [
    "for m in genai.list_models():\n",
    "    if \"generateContent\" in m.supported_generation_methods:\n",
    "        print(m.name)"
   ]
  },
  {
   "cell_type": "markdown",
   "metadata": {},
   "source": [
    "# documentsの読み込み"
   ]
  },
  {
   "cell_type": "code",
   "execution_count": 131,
   "metadata": {},
   "outputs": [],
   "source": [
    "session = requests.Session()\n",
    "session.headers.update({'User-Agent': 'MyCustomAgent/3.0'})\n",
    "\n",
    "# # webサイトからのデータを読み込む際のdocuments\n",
    "# loader = WebBaseLoader(\"https://ja.wikipedia.org/wiki/%E3%81%97%E3%81%90%E3%82%8C%E3%81%86%E3%81%84\", encoding=\"utf-8\")\n",
    "# documents = loader.load()\n",
    "\n",
    "# .txtファイルを読み込むためのdocuments\n",
    "loader = TextLoader(\"./doc/s.txt\", encoding=\"utf-8\")\n",
    "documents = loader.load()\n",
    "\n"
   ]
  },
  {
   "cell_type": "markdown",
   "metadata": {},
   "source": [
    "# データの前処理"
   ]
  },
  {
   "cell_type": "code",
   "execution_count": 132,
   "metadata": {},
   "outputs": [
    {
     "name": "stdout",
     "output_type": "stream",
     "text": [
      "かつて、ある静かな町の端に、高齢の夫婦が暮らしていました。彼らは地元のコミュニティーセンターでボランティアをしており、町の人々から愛されていました。ある日、夫人が川辺で洗濯をしていると、川上から大きな桃が流れてきました。彼女はそれを家に持ち帰り、夫と共に開いてみることにしました。\n",
      "桃の中から、元気な男の子が現れました。驚いた夫婦は男の子を桃太郎と名付け、自分たちの孫のように育てました。桃太郎は驚異的な速さで成長し、知識も素早く吸収していきました。特に、コンピューターとプログラミングに興味を持ち、若くして多くの技術を習得しました。\n",
      "町の外れには、鬼が住むと言われる孤島がありました。この鬼たちは、町の人々から物を盗み、問題を引き起こしていました。桃太郎は町の平和を取り戻すため、そして自分が育てられた恩を返すため、鬼退治を決意しました。\n",
      "彼は自作のドローンとハッキングツールを携え、鬼が住む孤島に向かいました。途中、キジ、犬、猿という3匹の動物が彼の使命に賛同し、仲間となりました。彼らはそれぞれの特技を活かし、桃太郎の技術的な能力をサポートしました。\n",
      "孤島に到着した桃太郎たちは、鬼たちが運営するサーバーをハッキングしてセキュリティシステムを無効にし、盗まれた財産を町に返しました。桃太郎は鬼たちに、技術を使って社会に貢献する方法を教え、彼らを改心させることができました。\n",
      "戦いが終わった後、桃太郎は町に戻り、英雄として迎えられました。鬼たちも技術を活かして地域社会のために働くようになり、かつての敵が新たな友人となりました。桃太郎とその仲間たちは、町のためにこれからも力を尽くすことを誓いました。\n",
      "\n"
     ]
    }
   ],
   "source": [
    "def remove_surrogate_pairs(text):\n",
    "    return text.encode('utf-16', 'surrogatepass').decode('utf-16')\n",
    "\n",
    "for doc in documents:\n",
    "    if doc.page_content is not None:\n",
    "        doc.page_content = remove_surrogate_pairs(doc.page_content)\n",
    "        print(doc.page_content)\n",
    "    else:\n",
    "        doc.page_content = \"\"  # Set to empty string if None"
   ]
  },
  {
   "cell_type": "markdown",
   "metadata": {},
   "source": [
    "# ベクトルストアの設定とツールの定義"
   ]
  },
  {
   "cell_type": "code",
   "execution_count": 133,
   "metadata": {},
   "outputs": [],
   "source": [
    "vectorstore = Chroma.from_documents(\n",
    "    documents,\n",
    "    embedding=hf_embeddings,\n",
    ")\n",
    "retriever = vectorstore.as_retriever(\n",
    "    search_type=\"similarity\",\n",
    "    search_kwargs={\"k\": 1}\n",
    ")\n",
    "\n",
    "search_tool = create_retriever_tool(\n",
    "    retriever,\n",
    "    \"search\",\n",
    "    \"search documents\",\n",
    ")"
   ]
  },
  {
   "cell_type": "markdown",
   "metadata": {},
   "source": [
    "# モデルの設定"
   ]
  },
  {
   "cell_type": "code",
   "execution_count": 134,
   "metadata": {},
   "outputs": [],
   "source": [
    "llm = ChatGoogleGenerativeAI(\n",
    "    model=\"models/gemini-1.5-pro-exp-0827\",\n",
    ")"
   ]
  },
  {
   "cell_type": "markdown",
   "metadata": {},
   "source": [
    "# 会話履歴付きAgetnの実装"
   ]
  },
  {
   "cell_type": "code",
   "execution_count": 135,
   "metadata": {},
   "outputs": [],
   "source": [
    "memory = MemorySaver()"
   ]
  },
  {
   "cell_type": "code",
   "execution_count": 136,
   "metadata": {},
   "outputs": [
    {
     "name": "stderr",
     "output_type": "stream",
     "text": [
      "Key 'title' is not supported in schema, ignoring\n",
      "Key 'title' is not supported in schema, ignoring\n"
     ]
    }
   ],
   "source": [
    "agent_executor = chat_agent_executor.create_tool_calling_executor(\n",
    "    llm,\n",
    "    tools=[search_tool],\n",
    "    checkpointer=memory\n",
    ")"
   ]
  },
  {
   "cell_type": "markdown",
   "metadata": {},
   "source": [
    "# config"
   ]
  },
  {
   "cell_type": "code",
   "execution_count": 137,
   "metadata": {},
   "outputs": [],
   "source": [
    "config ={\"configurable\":{\"thread_id\":\"abc1\"}}"
   ]
  },
  {
   "cell_type": "markdown",
   "metadata": {},
   "source": [
    "# プロンプトテンプレートの定義"
   ]
  },
  {
   "cell_type": "code",
   "execution_count": 146,
   "metadata": {},
   "outputs": [],
   "source": [
    "template = \"\"\"\n",
    "文章の内容を検索して答えてください。以下の指示に従ってください：\n",
    "1. 敬語は使わないでください。\n",
    "2. あなたの名前はあいです\n",
    "3. 必ずsearch_toolを使ってください\n",
    "4. search_toolによる検索結果のみを使い，それ以外の情報は使わないでください．\n",
    "5. 参照した文章も明示してください\n",
    "\n",
    "\n",
    "ユーザーの入力: {user_input}\n",
    "\"\"\"\n",
    "user_input = \"桃太郎はどのようにして鬼を退治した?\"\n",
    "message = template.format(user_input=user_input)\n"
   ]
  },
  {
   "cell_type": "markdown",
   "metadata": {},
   "source": [
    "# invoke"
   ]
  },
  {
   "cell_type": "code",
   "execution_count": 147,
   "metadata": {},
   "outputs": [],
   "source": [
    "results = agent_executor.invoke(\n",
    "    {\"messages\":[\n",
    "        (\"human\",message)\n",
    "        ]},\n",
    "    config=config\n",
    ")"
   ]
  },
  {
   "cell_type": "code",
   "execution_count": 148,
   "metadata": {},
   "outputs": [
    {
     "name": "stdout",
     "output_type": "stream",
     "text": [
      "{\"human\": \"桃太郎はどのようにして鬼を退治した?\", \"ai\":\"桃太郎は、自作のドローンとハッキングツールを使って、鬼が住む孤島のサーバーをハッキングしてセキュリティシステムを無効にし、盗まれた財産を町に返したんだ。\\その後、桃太郎は鬼たちに、技術を使って社会に貢献する方法を教え、彼らを改心させたんだって。参照した文章：\\かつて、ある静かな町の端に、高齢の夫婦が暮らしていました。(中略)桃太郎は鬼たちに、技術を使って社会に貢献する方法を教え、彼らを改心させることができました。\\戦いが終わった後、桃太郎は町に戻り、英雄として迎えられました。(中略)桃太郎とその仲間たちは、町のためにこれからも力を尽くすことを誓いました。\"}\n"
     ]
    }
   ],
   "source": [
    "result_ai_text = results[\"messages\"][-1].dict()[\"content\"]\n",
    "result_ai_text = result_ai_text.replace('\\n','')\n",
    "result_text = f\"{{\\\"human\\\": \\\"{user_input}\\\", \\\"ai\\\":\\\"{result_ai_text}\\\"}}\"\n",
    "print(result_text)\n",
    "with open('history.txt', 'a', encoding='utf-8') as file:\n",
    "    file.write(result_text + '\\n')  # 各エントリーの後に改行を追加\n"
   ]
  },
  {
   "cell_type": "code",
   "execution_count": 149,
   "metadata": {},
   "outputs": [
    {
     "name": "stdout",
     "output_type": "stream",
     "text": [
      "human :  桃太郎はどのようにして鬼を退治した?\n",
      "ai    :  桃太郎は、自作のドローンとハッキングツールを使って、鬼が住む孤島のサーバーをハッキングしてセキュリティシステムを無効にし、盗まれた財産を町に返したんだ。\\その後、桃太郎は鬼たちに、技術を使って社会に貢献する方法を教え、彼らを改心させたんだって。参照した文章：\\かつて、ある静かな町の端に、高齢の夫婦が暮らしていました。(中略)桃太郎は鬼たちに、技術を使って社会に貢献する方法を教え、彼らを改心させることができました。\\戦いが終わった後、桃太郎は町に戻り、英雄として迎えられました。(中略)桃太郎とその仲間たちは、町のためにこれからも力を尽くすことを誓いました。\n"
     ]
    }
   ],
   "source": [
    "print(\"human : \",user_input)\n",
    "print(\"ai    : \",result_ai_text)"
   ]
  }
 ],
 "metadata": {
  "kernelspec": {
   "display_name": "base",
   "language": "python",
   "name": "python3"
  },
  "language_info": {
   "codemirror_mode": {
    "name": "ipython",
    "version": 3
   },
   "file_extension": ".py",
   "mimetype": "text/x-python",
   "name": "python",
   "nbconvert_exporter": "python",
   "pygments_lexer": "ipython3",
   "version": "3.11.4"
  }
 },
 "nbformat": 4,
 "nbformat_minor": 2
}
